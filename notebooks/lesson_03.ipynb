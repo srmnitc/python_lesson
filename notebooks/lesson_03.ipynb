{
 "cells": [
  {
   "cell_type": "markdown",
   "metadata": {},
   "source": [
    "---\n",
    "\n",
    "# Class\n",
    "\n",
    "---"
   ]
  },
  {
   "cell_type": "markdown",
   "metadata": {},
   "source": [
    "In the previous exercises you have already used classes unknowingly, `numpy.array`, `string` and `list` are all objects defined by their respective class. `Class` defines an object and attaches several and attributes and functions to it.\n",
    "\n",
    "Let us build a very simple example. A circle can be defined by its radius, from which other attributes can be derived such as\n",
    "circumference and area."
   ]
  },
  {
   "cell_type": "code",
   "execution_count": 1,
   "metadata": {},
   "outputs": [],
   "source": [
    "import numpy as np"
   ]
  },
  {
   "cell_type": "markdown",
   "metadata": {},
   "source": [
    "before we start, its beneficial to think what attributes a class `Circle` might/should have. You can have class attributes and associated functions. A good example of an attribute for example, is `radius`. An associated function could be `calculate_area`, which would calculate the area of the circle since we know the `radius` already."
   ]
  },
  {
   "cell_type": "markdown",
   "metadata": {},
   "source": [
    "Classes in python are identified by the `class` keyword. There are certain import aspects of a class-  \n",
    "```\n",
    "def __init__(self):\n",
    "```\n",
    "\n",
    "The above function is a constructor. It is called by default when a class object is created. The next thing you might notice is `self` keyword. This keyword is used to identify attributes that belong to the class."
   ]
  },
  {
   "cell_type": "markdown",
   "metadata": {},
   "source": [
    "Let us define a class circle-"
   ]
  },
  {
   "cell_type": "code",
   "execution_count": 3,
   "metadata": {},
   "outputs": [],
   "source": [
    "class Circle:\n",
    "    \"\"\"\n",
    "    Circle class to hold properties of a circle\n",
    "    \"\"\"\n",
    "    def __init__(self, radius=None):\n",
    "        \n",
    "        self.radius        = radius\n",
    "        #other variables are set to None\n",
    "        self.area          = None\n",
    "        self.circumference = None\n",
    "    \n",
    "    def get_area(self):\n",
    "        \"\"\"\n",
    "        Calculate area\n",
    "        \"\"\"\n",
    "        self.area = np.pi * self.radius**2\n",
    "\n",
    "    def get_circumference(self):\n",
    "        \"\"\"\n",
    "        Calculate circumference\n",
    "        \"\"\"\n",
    "        self.circumference = 2.0 * np.pi * self.radius\n"
   ]
  },
  {
   "cell_type": "markdown",
   "metadata": {},
   "source": [
    "## Creating class objects "
   ]
  },
  {
   "cell_type": "code",
   "execution_count": 4,
   "metadata": {},
   "outputs": [],
   "source": [
    "small_circle = Circle(radius=8)"
   ]
  },
  {
   "cell_type": "code",
   "execution_count": 5,
   "metadata": {},
   "outputs": [],
   "source": [
    "big_circle = Circle(radius=24)"
   ]
  },
  {
   "cell_type": "markdown",
   "metadata": {},
   "source": [
    "Calculate the area and circumference of the Circle"
   ]
  },
  {
   "cell_type": "code",
   "execution_count": 6,
   "metadata": {},
   "outputs": [],
   "source": [
    "small_circle.get_area()\n",
    "small_circle.get_circumference()"
   ]
  },
  {
   "cell_type": "markdown",
   "metadata": {},
   "source": [
    "You can access the class attributes through its object"
   ]
  },
  {
   "cell_type": "code",
   "execution_count": 7,
   "metadata": {},
   "outputs": [
    {
     "data": {
      "text/plain": [
       "201.06192982974676"
      ]
     },
     "execution_count": 7,
     "metadata": {},
     "output_type": "execute_result"
    }
   ],
   "source": [
    "small_circle.area"
   ]
  },
  {
   "cell_type": "code",
   "execution_count": 8,
   "metadata": {},
   "outputs": [
    {
     "data": {
      "text/plain": [
       "50.26548245743669"
      ]
     },
     "execution_count": 8,
     "metadata": {},
     "output_type": "execute_result"
    }
   ],
   "source": [
    "small_circle.circumference"
   ]
  },
  {
   "cell_type": "code",
   "execution_count": 9,
   "metadata": {},
   "outputs": [
    {
     "data": {
      "text/plain": [
       "8"
      ]
     },
     "execution_count": 9,
     "metadata": {},
     "output_type": "execute_result"
    }
   ],
   "source": [
    "small_circle.radius"
   ]
  },
  {
   "cell_type": "markdown",
   "metadata": {},
   "source": [
    "# Exercise 2: Atoms Class"
   ]
  },
  {
   "cell_type": "markdown",
   "metadata": {},
   "source": [
    "The task is to write a class `Atoms` to handle an atomic configuration. It should contain the cell and atomic positions. In addition, it should be able to find distance between two atoms.  \n",
    "\n",
    "The atoms are assumed to interact with a simple Lennard-Jones potential of the form-  \n",
    "$U(r_{ij}) = 4 \\epsilon \\Big[ \\Big( \\frac{\\sigma}{r_{ij}}^{12} - \\frac{\\sigma}{r_{ij}}^{6} \\Big) \\Big]$  \n",
    "which can also be expressed for simplicity as-  \n",
    "$U(r_{ij}) = \\frac{A}{r_{ij}^{12}} - \\frac{B}{r_{ij}^6}$\n",
    "</br>\n",
    "Assuming $A = B = 1$, the class should also have a function to calculate the force between two atoms given by, \n",
    "</br>\n",
    "$F_{ij} = -\\nabla_r U(r_{ij})$"
   ]
  },
  {
   "cell_type": "markdown",
   "metadata": {},
   "source": [
    "## import necessary modules"
   ]
  },
  {
   "cell_type": "code",
   "execution_count": 1,
   "metadata": {},
   "outputs": [],
   "source": [
    "import numpy as np\n",
    "import matplotlib.pyplot as pl"
   ]
  },
  {
   "cell_type": "code",
   "execution_count": 11,
   "metadata": {},
   "outputs": [],
   "source": [
    "class Atoms:\n",
    "    \"\"\"\n",
    "    Defines an atomic configuration containing\n",
    "    a list of elements, cell and atomic positions.\n",
    "    \"\"\"   \n",
    "    def __init__(self, cell=None, positions=None):\n",
    "        \"\"\"\n",
    "        Create class and assign cell and positions\n",
    "        \"\"\"\n",
    "\n",
    "    \n",
    "    def get_distance(self, atomindex1, atomindex2):\n",
    "        \"\"\"\n",
    "        Get distance between two atoms\n",
    "        \"\"\"\n",
    "        \n",
    "        return dist\n",
    "    \n",
    "    def get_force(self, atomindex1, atomindex2):\n",
    "        \"\"\"\n",
    "        Get force as gradient\n",
    "        \"\"\"\n",
    "        \n",
    "        return force"
   ]
  },
  {
   "cell_type": "markdown",
   "metadata": {},
   "source": [
    "### Create atom details"
   ]
  },
  {
   "cell_type": "code",
   "execution_count": 7,
   "metadata": {},
   "outputs": [],
   "source": [
    "lattice_constant = 3.147\n",
    "positions = np.array([[0, 0, 0], [0.5, 0.5, 0.5]])*lattice_constant\n",
    "cell = np.array([[1.,0,0],[0,1,0],[0,0,1]])*lattice_constant"
   ]
  },
  {
   "cell_type": "markdown",
   "metadata": {},
   "source": [
    "### Create an object"
   ]
  },
  {
   "cell_type": "code",
   "execution_count": 8,
   "metadata": {},
   "outputs": [],
   "source": [
    "atoms = Atoms(cell=cell, positions=positions)"
   ]
  },
  {
   "cell_type": "markdown",
   "metadata": {},
   "source": [
    "### Get distance between two atoms"
   ]
  },
  {
   "cell_type": "code",
   "execution_count": 9,
   "metadata": {},
   "outputs": [
    {
     "data": {
      "text/plain": [
       "2.7253819457096284"
      ]
     },
     "execution_count": 9,
     "metadata": {},
     "output_type": "execute_result"
    }
   ],
   "source": [
    "atoms.get_distance(0, 1)"
   ]
  },
  {
   "cell_type": "markdown",
   "metadata": {},
   "source": [
    "### Get force between two atoms"
   ]
  },
  {
   "cell_type": "code",
   "execution_count": 10,
   "metadata": {},
   "outputs": [
    {
     "data": {
      "text/plain": [
       "0.00534607266764154"
      ]
     },
     "execution_count": 10,
     "metadata": {},
     "output_type": "execute_result"
    }
   ],
   "source": [
    "atoms.get_force(0, 1)"
   ]
  }
 ],
 "metadata": {
  "kernelspec": {
   "display_name": "lammps",
   "language": "python",
   "name": "lammps"
  },
  "language_info": {
   "codemirror_mode": {
    "name": "ipython",
    "version": 3
   },
   "file_extension": ".py",
   "mimetype": "text/x-python",
   "name": "python",
   "nbconvert_exporter": "python",
   "pygments_lexer": "ipython3",
   "version": "3.7.6"
  }
 },
 "nbformat": 4,
 "nbformat_minor": 4
}
